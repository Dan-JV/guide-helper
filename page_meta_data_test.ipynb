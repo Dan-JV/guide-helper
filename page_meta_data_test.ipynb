{
 "cells": [
  {
   "cell_type": "code",
   "execution_count": 1,
   "metadata": {},
   "outputs": [],
   "source": [
    "file_path = \"/home/dan/repos/guide-helper/data/pages/page_1.txt\"\n",
    "\n",
    "with open(file_path, encoding=\"utf-8\") as f:\n",
    "    data = f.read()"
   ]
  },
  {
   "cell_type": "code",
   "execution_count": 3,
   "metadata": {},
   "outputs": [],
   "source": [
    "from langchain_text_splitters import MarkdownHeaderTextSplitter\n",
    "\n",
    "headers_to_split_on = [\n",
    "    (\"#\", \"Header 1\"),\n",
    "    (\"##\", \"Header 2\"),\n",
    "    (\"###\", \"Header 3\"),\n",
    "]\n",
    "markdown_splitter = MarkdownHeaderTextSplitter(headers_to_split_on=headers_to_split_on, strip_headers=False)\n",
    "docs = markdown_splitter.split_text(data)"
   ]
  },
  {
   "cell_type": "code",
   "execution_count": 29,
   "metadata": {},
   "outputs": [],
   "source": [
    "docs[0].metadata[\"url\"] = \"test.se\""
   ]
  },
  {
   "cell_type": "code",
   "execution_count": 43,
   "metadata": {},
   "outputs": [],
   "source": [
    "doc = docs[1]"
   ]
  },
  {
   "cell_type": "code",
   "execution_count": 45,
   "metadata": {},
   "outputs": [],
   "source": [
    "import json\n",
    "doc.json()\n",
    "json = json.loads(doc.json())"
   ]
  },
  {
   "cell_type": "code",
   "execution_count": 49,
   "metadata": {},
   "outputs": [
    {
     "data": {
      "text/plain": [
       "str"
      ]
     },
     "execution_count": 49,
     "metadata": {},
     "output_type": "execute_result"
    }
   ],
   "source": [
    "type(doc.page_content)"
   ]
  },
  {
   "cell_type": "code",
   "execution_count": 28,
   "metadata": {},
   "outputs": [
    {
     "name": "stdout",
     "output_type": "stream",
     "text": [
      "https://help.vismaenterprise.dk/vismaloen-standard/ferie/8-korrektion-af-ferie\n"
     ]
    }
   ],
   "source": [
    "print(docs[0].page_content)"
   ]
  },
  {
   "cell_type": "code",
   "execution_count": null,
   "metadata": {},
   "outputs": [],
   "source": [
    "import os\n",
    "\n",
    "def process_html_files(directory_path):\n",
    "    # List all files in the directory\n",
    "    html_files = [file for file in os.listdir(directory_path) if file.endswith('.txt')]\n",
    "    \n",
    "    # Sort files by name to process them in order\n",
    "    html_files.sort()\n",
    "\n",
    "    # Read and process each HTML file\n",
    "    for file_name in html_files:\n",
    "        file_path = os.path.join(directory_path, file_name)\n",
    "        with open(file_path, 'r', encoding='utf-8') as file:\n",
    "            html_content = file.read()\n",
    "            # Here you can process the HTML content as needed\n",
    "            print(f'Processing {file_name}...')\n",
    "\n",
    "\n",
    "if __name__ == '__main__':\n",
    "    # Specify the directory containing the HTML files\n",
    "    directory_path = 'data/pages'\n",
    "    process_html_files(directory_path)\n",
    "        "
   ]
  },
  {
   "cell_type": "code",
   "execution_count": 20,
   "metadata": {},
   "outputs": [
    {
     "name": "stdout",
     "output_type": "stream",
     "text": [
      "https://help.vismaenterprise.dk/vismaloen-standard/medarbejdertilgode/65-sogne-og-helligdage\n",
      "https://help.vismaenterprise.dk/vismaloen-standard/ferie/11-feriefritimer\n",
      "https://help.vismaenterprise.dk/vismaloen-standard/tillaeg/32-guide-til-resultattabel\n",
      "https://help.vismaenterprise.dk/vismaloen-standard/medarbejdertilgode/66-saerlige-dage-timer-og-belob\n",
      "https://help.vismaenterprise.dk/vismaloen-standard/decantral-registrering/86-decentral-registrering\n",
      "https://help.vismaenterprise.dk/vismaloen-standard/lonkorsel/12-lonkorsel\n",
      "https://help.vismaenterprise.dk/vismaloen-standard/tillaeg/74-vaerdibestemt-timelon\n",
      "https://help.vismaenterprise.dk/vismaloen-standard/webinars/102-release-webinar-bibliotek\n",
      "https://help.vismaenterprise.dk/vismaloen-standard/aarsskifte/57-arsskifte-2023-2024\n",
      "https://help.vismaenterprise.dk/vismaloen-standard/eindkomst/56-e-indkomst-fejlkoder\n",
      "https://help.vismaenterprise.dk/vismaloen-standard/lonkorsel/35-natlig-lonkorsel-fa-mere-tid-i-lobet-af-dagen\n",
      "https://help.vismaenterprise.dk/vismaloen-standard/lonkorsel/38-tjek-af-overforselsservice-leverancekvitteringer\n",
      "https://help.vismaenterprise.dk/vismaloen-standard/opsaetning-og-kom-igang/4-fritvalgskonto\n",
      "https://help.vismaenterprise.dk/vismaloen-standard/ferie/85-bogforing-ferie\n",
      "https://help.vismaenterprise.dk/vismaloen-standard/ferie/161-rasmus\n",
      "https://help.vismaenterprise.dk/vismaloen-standard/medarbejdertilgode/1-aftalefri\n",
      "https://help.vismaenterprise.dk/vismaloen-standard/medarbejder/71-oprettelse-aendringer-og-fratraedelse-af-medarbejder\n",
      "https://help.vismaenterprise.dk/vismaloen-standard/decantral-registrering/94-decentralized-recordings\n",
      "https://help.vismaenterprise.dk/vismaloen-standard/personalegoder/42-firmabil\n",
      "https://help.vismaenterprise.dk/vismaloen-standard/personalegoder/14-fratraedelsesgodtgorelse\n",
      "https://help.vismaenterprise.dk/vismaloen-standard/lonkorsel/21-valgfrit-sprog-pa-lonseddel\n",
      "https://help.vismaenterprise.dk/vismaloen-standard/lonkorsel/31-frist-for-godkend-lon-og-afregning\n",
      "https://help.vismaenterprise.dk/vismaloen-standard/ferie/70-ferietillaeg-kalenderar\n",
      "https://help.vismaenterprise.dk/vismaloen-standard/eindkomst/46-udskydelse-af-a-skat-og-am-bidrag\n",
      "https://help.vismaenterprise.dk/vismaloen-standard/medarbejder/36-a-endring-af-dispositionsdato\n",
      "https://help.vismaenterprise.dk/vismaloen-standard/medarbejder/37-flyt-medarbejder\n",
      "https://help.vismaenterprise.dk/vismaloen-standard/ferie/29-feriepengedifferenceberegning\n",
      "https://help.vismaenterprise.dk/vismaloen-standard/rapporter/58-rapportmodul\n",
      "https://help.vismaenterprise.dk/vismaloen-standard/webinars/100-webinar-bibliotek\n",
      "https://help.vismaenterprise.dk/vismaloen-standard/arbejdsgiver/53-nem-konto\n",
      "https://help.vismaenterprise.dk/vismaloen-standard/personalegoder/61-barselsfonde\n",
      "https://help.vismaenterprise.dk/vismaloen-standard/opsaetning-og-kom-igang/45-tilmelding-til-leverandorservice\n",
      "https://help.vismaenterprise.dk/vismaloen-standard/medarbejder/47-cpr-validering-i-visma-lon\n",
      "https://help.vismaenterprise.dk/vismaloen-standard/ferie/69-udbetaling-af-ferie\n",
      "https://help.vismaenterprise.dk/vismaloen-standard/tillaeg/90-opsaetning-af-ny-lonart\n",
      "https://help.vismaenterprise.dk/vismaloen-standard/ferie/87-overforsel-udbetaling-og-nulstilling-af-restferie\n",
      "https://help.vismaenterprise.dk/vismaloen-standard/arbejdsgiver/52-vejledning-til-mitdk\n",
      "https://help.vismaenterprise.dk/vismaloen-standard/bogforing/93-bogforing-1\n",
      "https://help.vismaenterprise.dk/vismaloen-standard/lonkorsel/43-rapporter-med-i-lonkorsel\n",
      "https://help.vismaenterprise.dk/vismaloen-standard/ferie/10-feriefridage\n",
      "https://help.vismaenterprise.dk/vismaloen-standard/eindkomst/54-e-skattekort\n",
      "https://help.vismaenterprise.dk/vismaloen-standard/medarbejdertilgode/15-afspadsering\n",
      "https://help.vismaenterprise.dk/vismaloen-standard/tillaeg/143-saerlig-lontillaeg-horesta\n",
      "https://help.vismaenterprise.dk/vismaloen-standard/ferie/133-ferie-vejledning\n",
      "https://help.vismaenterprise.dk/vismaloen-standard/opsaetning-og-kom-igang/131-bilagsoversigt\n",
      "https://help.vismaenterprise.dk/vismaloen-standard/ferie/67-ferie-ved-fratraedelse\n",
      "https://help.vismaenterprise.dk/vismaloen-standard/tillaeg/89-beregning-af-gennemsnitlig-timelon\n",
      "https://help.vismaenterprise.dk/vismaloen-standard/ferie/140-feriefri-oversigt\n",
      "https://help.vismaenterprise.dk/vismaloen-standard/lonkorsel/34-lonkorsel-supplerende\n",
      "https://help.vismaenterprise.dk/vismaloen-standard/opsaetning-og-kom-igang/19-log-pa-visma-lon\n",
      "https://help.vismaenterprise.dk/vismaloen-standard/ferie/28-korrektion-af-ferietillaeg-og-ekstra-ferietillaeg\n",
      "https://help.vismaenterprise.dk/vismaloen-standard/medarbejdertilgode/40-opsparinger\n",
      "https://help.vismaenterprise.dk/vismaloen-standard/tillaeg/92-lonramme-og-lontrin-automatisk-satsaendring\n",
      "https://help.vismaenterprise.dk/vismaloen-standard/ferie/27-ferie-fra-tidligere-arbejdsgiver\n",
      "https://help.vismaenterprise.dk/vismaloen-standard/tillaeg/64-pensionsgrundlag\n",
      "https://help.vismaenterprise.dk/vismaloen-standard/arbejdsgiver/51-arbejdsgiver-stamoplysninger\n",
      "https://help.vismaenterprise.dk/vismaloen-standard/opsaetning-og-kom-igang/20-oversigt-over-genveje-til-visma-lon\n",
      "https://help.vismaenterprise.dk/vismaloen-standard/test/23-testeren\n",
      "https://help.vismaenterprise.dk/vismaloen-standard/eindkomst/55-e-indkomst\n",
      "https://help.vismaenterprise.dk/vismaloen-standard/medarbejdertilgode/16-seniorordning\n",
      "https://help.vismaenterprise.dk/vismaloen-standard/ferie/9-feriefribelob\n",
      "https://help.vismaenterprise.dk/vismaloen-standard/arbejdsgiver/18-ny-arbejdsgiver-aendring-af-cvr-nr-eller-bank-oplysninger-1\n",
      "https://help.vismaenterprise.dk/vismaloen-standard/tillaeg/5-barn-syg-efter-anciennitet\n",
      "https://help.vismaenterprise.dk/vismaloen-standard/lonkorsel/13-efterregulering\n",
      "https://help.vismaenterprise.dk/vismaloen-standard/ferie/8-korrektion-af-ferie\n",
      "https://help.vismaenterprise.dk/vismaloen-standard/personalegoder/63-fleksible-personalegoder\n",
      "https://help.vismaenterprise.dk/vismaloen-standard/ferie/68-feriesaldi-nye-medarbejdere\n",
      "https://help.vismaenterprise.dk/vismaloen-standard/tillaeg/130-lonartskatalog-til-visma-lon\n",
      "https://help.vismaenterprise.dk/vismaloen-standard/tillaeg/160-Loentillaeg_store_bededag\n",
      "https://help.vismaenterprise.dk/vismaloen-standard/medarbejdertilgode/41-omsorgsdage-timer\n",
      "https://help.vismaenterprise.dk/vismaloen-standard/personalegoder/60-da-lo-udviklingsfonden\n",
      "https://help.vismaenterprise.dk/vismaloen-standard/statistik/17-statistikindberetning\n",
      "https://help.vismaenterprise.dk/vismaloen-standard/tillaeg/6-sygelon-efter-anciennitet\n",
      "https://help.vismaenterprise.dk/vismaloen-standard/rapporter/44-html-rapporter-til-excel\n",
      "https://help.vismaenterprise.dk/vismaloen-standard/bogforing/25-hensaettelse-til-kompetence-og-ous-fonde\n",
      "https://help.vismaenterprise.dk/vismaloen-standard/ferie/75-opsaetning-af-ferietimer-og-feriepenge\n",
      "https://help.vismaenterprise.dk/vismaloen-standard/opsaetning-og-kom-igang/39-gratis-vaerktojer-til-en-mere-effektiv-arbejdsdag\n",
      "https://help.vismaenterprise.dk/vismaloen-standard/tillaeg/91-anciennitetsbestemt-timelon\n",
      "https://help.vismaenterprise.dk/vismaloen-standard/tillaeg/88-tillaeg\n",
      "https://help.vismaenterprise.dk/vismaloen-standard/medarbejder/33-sadan-laeser-du-din-lonseddel\n",
      "https://help.vismaenterprise.dk/vismaloen-standard/ferie/62-ferie-pa-forskud\n",
      "https://help.vismaenterprise.dk/vismaloen-standard/ferie/76-afholdelse-af-ferie\n",
      "https://help.vismaenterprise.dk/vismaloen-standard/lonkorsel/72-omkorsel-paa-udvalgte-medarbejdere\n",
      "https://help.vismaenterprise.dk/vismaloen-standard/arbejdsgiver/24-brugerrettigheder-i-visma-lon\n",
      "https://help.vismaenterprise.dk/vismaloen-standard/ferie/7-ferietillaeg-feriear\n",
      "https://help.vismaenterprise.dk/vismaloen-standard/medarbejder/30-opdater-adresser-via-cpr-registret\n",
      "https://help.vismaenterprise.dk/vismaloen-standard/rapporter/59-rapportoversigt-til-visma-lon\n",
      "https://help.vismaenterprise.dk/vismaloen-standard/opsaetning-og-kom-igang/22-brugeradministration\n",
      "https://help.vismaenterprise.dk/vismaloen-standard/ferie/26-ekstra-feriedage-udover-ferielovens-25-feriedage\n",
      "https://help.vismaenterprise.dk/vismaloen-standard/ferie/73-opsaetning-af-feriedage-og-feriepenge\n"
     ]
    }
   ],
   "source": [
    "html_files = [file for file in os.listdir(directory_path) if file.endswith('.txt')]\n",
    "\n",
    "for file_name in html_files:\n",
    "    file_path = os.path.join(directory_path, file_name)\n",
    "    with open(file_path, 'r', encoding='utf-8') as file:\n",
    "        first_line = file.readline().strip()\n",
    "        print(first_line)"
   ]
  }
 ],
 "metadata": {
  "kernelspec": {
   "display_name": "guidehelper",
   "language": "python",
   "name": "python3"
  },
  "language_info": {
   "codemirror_mode": {
    "name": "ipython",
    "version": 3
   },
   "file_extension": ".py",
   "mimetype": "text/x-python",
   "name": "python",
   "nbconvert_exporter": "python",
   "pygments_lexer": "ipython3",
   "version": "3.10.14"
  }
 },
 "nbformat": 4,
 "nbformat_minor": 2
}
